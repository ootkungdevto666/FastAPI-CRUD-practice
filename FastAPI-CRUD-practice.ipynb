{
 "cells": [
  {
   "cell_type": "code",
   "execution_count": 542,
   "metadata": {},
   "outputs": [],
   "source": [
    "from fastapi import FastAPI\n",
    "from pydantic import BaseModel\n",
    "import uvicorn\n",
    "import nest_asyncio\n",
    "import sqlite3\n"
   ]
  },
  {
   "cell_type": "code",
   "execution_count": 543,
   "metadata": {},
   "outputs": [],
   "source": [
    "class BookItem(BaseModel):\n",
    "    Book_ISBN: str\n",
    "    Book_title: str\n",
    "    Author: str\n",
    "    Price: int\n",
    "    Qty: int\n"
   ]
  },
  {
   "cell_type": "code",
   "execution_count": 544,
   "metadata": {},
   "outputs": [],
   "source": [
    "db = sqlite3.connect(\"P_6406021421316.db\")\n",
    "cur = db.cursor()\n"
   ]
  },
  {
   "cell_type": "code",
   "execution_count": 545,
   "metadata": {},
   "outputs": [],
   "source": [
    "app = FastAPI()"
   ]
  },
  {
   "cell_type": "code",
   "execution_count": 546,
   "metadata": {},
   "outputs": [],
   "source": [
    "@app.get(\"/Books\")\n",
    "async def search_book_all():\n",
    "    sql = \"select * from BookStore\"\n",
    "    res = cur.execute(sql).fetchall()\n",
    "    return res\n"
   ]
  },
  {
   "cell_type": "code",
   "execution_count": 547,
   "metadata": {},
   "outputs": [],
   "source": [
    "@app.get(\"/Books/{id}\")\n",
    "async def search_book_one(id: str):\n",
    "    try:\n",
    "        sql = \"select * from BookStore where Book_id = ?\"\n",
    "        res = cur.execute(sql, (id,))\n",
    "        data = res.fetchone()\n",
    "        if (data != None):\n",
    "            return {\"status\": \"ok\", \"data\": data}\n",
    "        else:\n",
    "            return {\"status\": \"NotFound\", \"data\": \"\"}\n",
    "    except sqlite3.Error as err:\n",
    "        return {\"status\": \"fail\", \"error\": err}\n"
   ]
  },
  {
   "cell_type": "code",
   "execution_count": 548,
   "metadata": {},
   "outputs": [],
   "source": [
    "@app.get(\"/Books/Name/{Name}\")\n",
    "async def search_book_by_name(Name: str):\n",
    "    try:\n",
    "        sql = \"select * from BookStore where Book_title = ?\"\n",
    "        res = cur.execute(sql, (Name,))\n",
    "        data = res.fetchone()\n",
    "        if (data != None):\n",
    "            return {\"status\": \"ok\", \"data\": data}\n",
    "        else:\n",
    "            return {\"status\": \"NotFound\", \"data\": \"\"}\n",
    "    except sqlite3.Error as err:\n",
    "        return {\"status\": \"fail\", \"error\": err}\n"
   ]
  },
  {
   "cell_type": "code",
   "execution_count": 549,
   "metadata": {},
   "outputs": [],
   "source": [
    "@app.post(\"/Books\")\n",
    "async def insert_book(book: BookItem):\n",
    "    try:\n",
    "        sql = '''INSERT INTO BookStore (Book_ISBN,Book_title,Author,Price,Qty) VALUES (?,?,?,?,?)'''\n",
    "        values = (book.Book_ISBN, book.Book_title,\n",
    "                  book.Author, book.Price, book.Qty)\n",
    "        cur.execute(sql, values)\n",
    "        db.commit()\n",
    "        return {\"status\": \"insert success\"}\n",
    "    except sqlite3.Error as err:\n",
    "        return {\"status\": \"fail\", \"error\": err}\n"
   ]
  },
  {
   "cell_type": "code",
   "execution_count": 550,
   "metadata": {},
   "outputs": [],
   "source": [
    "@app.put('/Books/{id}')\n",
    "async def update_book(book: BookItem, id: int):\n",
    "    try:\n",
    "        sql = '''UPDATE BookStore SET Book_ISBN = ?,Book_title = ?,Author = ?,Price = ?,Qty = ? WHERE Book_id = ?'''\n",
    "        values = (book.Book_ISBN, book.Book_title,\n",
    "                  book.Author, book.Price, book.Qty, id)\n",
    "        cur.execute(sql, values)\n",
    "        db.commit()\n",
    "        return {\"status\": \"edit success\"}\n",
    "    except sqlite3.Error as err:\n",
    "        return {\"status\": \"fail\", \"error\": err}\n"
   ]
  },
  {
   "cell_type": "code",
   "execution_count": 551,
   "metadata": {},
   "outputs": [],
   "source": [
    "@app.delete('/Books/{id}')\n",
    "async def delete_book(id: str):\n",
    "    try:\n",
    "        sql = '''DELETE FROM BookStore WHERE Book_id=?'''\n",
    "        cur.execute(sql, (id,))\n",
    "        db.commit()\n",
    "        return {\"status\": \"delete success\"}\n",
    "    except sqlite3.Error as err:\n",
    "        return {\"status\": \"fail\", \"error\": err}\n"
   ]
  },
  {
   "cell_type": "code",
   "execution_count": 552,
   "metadata": {},
   "outputs": [],
   "source": [
    "@app.get(\"/Books/Price/{price}/\")\n",
    "async def show_price_with_option(price:int, option: str):\n",
    "    try:\n",
    "        print(option)\n",
    "        if  option == \"MORE\":\n",
    "            sql = \"select * from BookStore order by Price DESC\"\n",
    "            res = cur.execute(sql)\n",
    "            data = res.fetchall()\n",
    "            return {\"status\": \"ok\", \"data\": data}\n",
    "        elif option == \"LESS\":\n",
    "            sql = \"select * from BookStore order by Price ASC\"\n",
    "            res = cur.execute(sql)\n",
    "            data = res.fetchall()\n",
    "            return {\"status\": \"ok\", \"data\": data}\n",
    "        elif option == \"EQUAL\" and price != None:\n",
    "            sql = \"select * from BookStore where Price = ?\"\n",
    "            res = cur.execute(sql, (price,))\n",
    "            data = res.fetchall()\n",
    "            return {\"status\": \"ok\", \"data\": data}\n",
    "        else:\n",
    "            return {\"status\": \"NotFound\", \"data\": \"\"}\n",
    "    except sqlite3.Error as err:\n",
    "        return {\"status\": \"fail\", \"error\": err}"
   ]
  },
  {
   "cell_type": "code",
   "execution_count": 553,
   "metadata": {},
   "outputs": [
    {
     "name": "stderr",
     "output_type": "stream",
     "text": [
      "INFO:     Started server process [6540]\n",
      "INFO:     Waiting for application startup.\n",
      "INFO:     Application startup complete.\n",
      "INFO:     Uvicorn running on http://127.0.0.1:8080 (Press CTRL+C to quit)\n"
     ]
    },
    {
     "name": "stdout",
     "output_type": "stream",
     "text": [
      "MORE\n",
      "INFO:     127.0.0.1:59684 - \"GET /Books/Price/1/?option=MORE HTTP/1.1\" 200 OK\n",
      "LESS\n",
      "INFO:     127.0.0.1:59697 - \"GET /Books/Price/1/?option=LESS HTTP/1.1\" 200 OK\n",
      "EQUAL\n",
      "INFO:     127.0.0.1:59705 - \"GET /Books/Price/649/?option=EQUAL HTTP/1.1\" 200 OK\n"
     ]
    },
    {
     "name": "stderr",
     "output_type": "stream",
     "text": [
      "INFO:     Shutting down\n",
      "INFO:     Waiting for application shutdown.\n",
      "INFO:     Application shutdown complete.\n",
      "INFO:     Finished server process [6540]\n"
     ]
    }
   ],
   "source": [
    "nest_asyncio.apply()\n",
    "uvicorn.run(app, port=8080)\n"
   ]
  }
 ],
 "metadata": {
  "kernelspec": {
   "display_name": "Python 3.9.13 ('MARIN')",
   "language": "python",
   "name": "python3"
  },
  "language_info": {
   "codemirror_mode": {
    "name": "ipython",
    "version": 3
   },
   "file_extension": ".py",
   "mimetype": "text/x-python",
   "name": "python",
   "nbconvert_exporter": "python",
   "pygments_lexer": "ipython3",
   "version": "3.9.13"
  },
  "orig_nbformat": 4,
  "vscode": {
   "interpreter": {
    "hash": "07b7dba87e09992ee6975011a4567f95b0b47827b0ac3089b99c6b3fc2adc681"
   }
  }
 },
 "nbformat": 4,
 "nbformat_minor": 2
}
